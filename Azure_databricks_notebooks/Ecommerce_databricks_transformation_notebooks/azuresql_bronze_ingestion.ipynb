{
 "cells": [
  {
   "cell_type": "code",
   "execution_count": 0,
   "metadata": {
    "application/vnd.databricks.v1+cell": {
     "cellMetadata": {
      "byteLimit": 2048000,
      "rowLimit": 10000
     },
     "inputWidgets": {},
     "nuid": "fddb3e68-58d7-4f42-87f2-706b4f798e2e",
     "showTitle": false,
     "title": ""
    }
   },
   "outputs": [],
   "source": [
    "dbutils.widgets.text(\"bronze_table\",\"\")\n",
    "dbutils.widgets.text(\"bronze_schema\",\"\")\n",
    "dbutils.widgets.text(\"source_table_name\",\"\")\n",
    "dbutils.widgets.text(\"storage_account_name\",\"\")\n",
    "dbutils.widgets.text(\"loadID\",\"\")\n",
    "dbutils.widgets.text(\"env\",\"\")\n"
   ]
  },
  {
   "cell_type": "code",
   "execution_count": 0,
   "metadata": {
    "application/vnd.databricks.v1+cell": {
     "cellMetadata": {
      "byteLimit": 2048000,
      "rowLimit": 10000
     },
     "inputWidgets": {},
     "nuid": "3aaf3782-fb03-4ac8-b059-b66e531a5896",
     "showTitle": false,
     "title": ""
    }
   },
   "outputs": [],
   "source": [
    "bronze_table = dbutils.widgets.get(\"bronze_table\").strip()\n",
    "bronze_schema = dbutils.widgets.get(\"bronze_schema\").strip()\n",
    "source_table_name = dbutils.widgets.get(\"source_table_name\").strip()\n",
    "storage_account_name = dbutils.widgets.get(\"storage_account_name\").strip()\n",
    "loadID = dbutils.widgets.get(\"loadID\").strip()\n",
    "env = dbutils.widgets.get(\"env\").strip()"
   ]
  },
  {
   "cell_type": "code",
   "execution_count": 0,
   "metadata": {
    "application/vnd.databricks.v1+cell": {
     "cellMetadata": {
      "byteLimit": 2048000,
      "rowLimit": 10000
     },
     "inputWidgets": {},
     "nuid": "ad778aba-4b4a-4868-9019-d51db38c156c",
     "showTitle": false,
     "title": ""
    }
   },
   "outputs": [],
   "source": [
    "spark.sql(f\"use hive_metastore.{env}_bronze\")"
   ]
  },
  {
   "cell_type": "code",
   "execution_count": 0,
   "metadata": {
    "application/vnd.databricks.v1+cell": {
     "cellMetadata": {
      "byteLimit": 2048000,
      "rowLimit": 10000
     },
     "inputWidgets": {},
     "nuid": "58b1b680-6207-4618-8f58-fcf669a5393e",
     "showTitle": false,
     "title": ""
    }
   },
   "outputs": [],
   "source": [
    "from pyspark.sql.functions import split\n",
    "bronze_table = bronze_table.split(\".\")[1]"
   ]
  },
  {
   "cell_type": "code",
   "execution_count": 0,
   "metadata": {
    "application/vnd.databricks.v1+cell": {
     "cellMetadata": {
      "byteLimit": 2048000,
      "rowLimit": 10000
     },
     "inputWidgets": {},
     "nuid": "4302d0f6-6875-4f81-8304-e9a804bbb4f4",
     "showTitle": false,
     "title": ""
    }
   },
   "outputs": [
    {
     "name": "stdout",
     "output_type": "stream",
     "text": [
      "abfss://landing@.dfs.core.windows.net/target_azuresql_files/\n"
     ]
    }
   ],
   "source": [
    "input_path = f\"abfss://landing@{storage_account_name}.dfs.core.windows.net/target_azuresql_files/{source_table_name}\""
   ]
  },
  {
   "cell_type": "code",
   "execution_count": 0,
   "metadata": {
    "application/vnd.databricks.v1+cell": {
     "cellMetadata": {
      "byteLimit": 2048000,
      "rowLimit": 10000
     },
     "inputWidgets": {},
     "nuid": "210680b9-d44f-4dfb-ae1f-837363d2604f",
     "showTitle": false,
     "title": ""
    }
   },
   "outputs": [],
   "source": [
    "table_df = spark.read.format(\"parquet\").option(\"header\",\"True\").load(input_path)"
   ]
  },
  {
   "cell_type": "code",
   "execution_count": 0,
   "metadata": {
    "application/vnd.databricks.v1+cell": {
     "cellMetadata": {},
     "inputWidgets": {},
     "nuid": "7b326f31-7e88-4a5e-b76c-5ec52f15637f",
     "showTitle": false,
     "title": ""
    }
   },
   "outputs": [],
   "source": [
    "# Step 2: Count rows in the source table\n",
    "source_table_count_rows = table_df.count()\n",
    "\n",
    "# Step 3: Create or replace a temporary view for SQL queries\n",
    "table_df.createOrReplaceTempView(\"table_view\")\n"
   ]
  },
  {
   "cell_type": "code",
   "execution_count": 0,
   "metadata": {
    "application/vnd.databricks.v1+cell": {
     "cellMetadata": {
      "byteLimit": 2048000,
      "rowLimit": 10000
     },
     "inputWidgets": {},
     "nuid": "5c096ade-8a60-4f66-8936-79dbc7608e1b",
     "showTitle": false,
     "title": ""
    }
   },
   "outputs": [],
   "source": [
    "# Step 4: Insert data into the bronze table\n",
    "spark.sql(f\"\"\"\n",
    "INSERT INTO {bronze_schema}.{bronze_table}\n",
    "SELECT *, from_utc_timestamp(current_timestamp(), 'IST') as last_insert_dttm,\n",
    "'{loadID}' as loadID\n",
    "FROM table_view\n",
    "\"\"\")\n"
   ]
  },
  {
   "cell_type": "code",
   "execution_count": 0,
   "metadata": {
    "application/vnd.databricks.v1+cell": {
     "cellMetadata": {},
     "inputWidgets": {},
     "nuid": "ee527769-5c6d-46ae-af14-cc2c89b40a6b",
     "showTitle": false,
     "title": ""
    }
   },
   "outputs": [],
   "source": [
    "bronze_table_count_rows = spark.sql(f\"\"\"\n",
    "SELECT COUNT(*)\n",
    "FROM {bronze_schema}.{bronze_table}\n",
    "WHERE loadID = '{loadID}'\n",
    "\"\"\").collect()[0][0]"
   ]
  },
  {
   "cell_type": "code",
   "execution_count": 0,
   "metadata": {
    "application/vnd.databricks.v1+cell": {
     "cellMetadata": {
      "byteLimit": 2048000,
      "rowLimit": 10000
     },
     "inputWidgets": {},
     "nuid": "c56e78e4-3850-4e94-a090-d0d8e676844f",
     "showTitle": false,
     "title": ""
    }
   },
   "outputs": [],
   "source": [
    "dbutils.notebook.exit([source_table_count_rows,bronze_table_count_rows])"
   ]
  }
 ],
 "metadata": {
  "application/vnd.databricks.v1+notebook": {
   "dashboards": [],
   "environmentMetadata": null,
   "language": "python",
   "notebookMetadata": {
    "mostRecentlyExecutedCommandWithImplicitDF": {
     "commandId": 406783954044832,
     "dataframes": [
      "_sqldf"
     ]
    },
    "pythonIndentUnit": 4
   },
   "notebookName": "azuresql_bronze_ingestion",
   "widgets": {
    "bronze_schema": {
     "currentValue": "",
     "nuid": "22bd964f-eb59-4bc0-acd8-2f8497578205",
     "typedWidgetInfo": {
      "autoCreated": false,
      "defaultValue": "",
      "label": null,
      "name": "bronze_schema",
      "options": {
       "validationRegex": null,
       "widgetDisplayType": "Text"
      },
      "parameterDataType": "String"
     },
     "widgetInfo": {
      "defaultValue": "",
      "label": null,
      "name": "bronze_schema",
      "options": {
       "autoCreated": null,
       "validationRegex": null,
       "widgetType": "text"
      },
      "widgetType": "text"
     }
    },
    "bronze_table": {
     "currentValue": "",
     "nuid": "99b92a5a-4b4a-4568-af55-f4a920d01733",
     "typedWidgetInfo": {
      "autoCreated": false,
      "defaultValue": "",
      "label": null,
      "name": "bronze_table",
      "options": {
       "validationRegex": null,
       "widgetDisplayType": "Text"
      },
      "parameterDataType": "String"
     },
     "widgetInfo": {
      "defaultValue": "",
      "label": null,
      "name": "bronze_table",
      "options": {
       "autoCreated": null,
       "validationRegex": null,
       "widgetType": "text"
      },
      "widgetType": "text"
     }
    },
    "env": {
     "currentValue": "",
     "nuid": "885bf189-65cc-473c-b33c-ab137d6fba67",
     "typedWidgetInfo": {
      "autoCreated": false,
      "defaultValue": "",
      "label": null,
      "name": "env",
      "options": {
       "validationRegex": null,
       "widgetDisplayType": "Text"
      },
      "parameterDataType": "String"
     },
     "widgetInfo": {
      "defaultValue": "",
      "label": null,
      "name": "env",
      "options": {
       "autoCreated": null,
       "validationRegex": null,
       "widgetType": "text"
      },
      "widgetType": "text"
     }
    },
    "loadID": {
     "currentValue": "",
     "nuid": "f102bc4c-79b0-47fd-85c8-6cb5888436a2",
     "typedWidgetInfo": {
      "autoCreated": false,
      "defaultValue": "",
      "label": null,
      "name": "loadID",
      "options": {
       "validationRegex": null,
       "widgetDisplayType": "Text"
      },
      "parameterDataType": "String"
     },
     "widgetInfo": {
      "defaultValue": "",
      "label": null,
      "name": "loadID",
      "options": {
       "autoCreated": null,
       "validationRegex": null,
       "widgetType": "text"
      },
      "widgetType": "text"
     }
    },
    "source_table_name": {
     "currentValue": "",
     "nuid": "c1520f8f-e630-49fb-9835-3ed582a71719",
     "typedWidgetInfo": {
      "autoCreated": false,
      "defaultValue": "",
      "label": null,
      "name": "source_table_name",
      "options": {
       "validationRegex": null,
       "widgetDisplayType": "Text"
      },
      "parameterDataType": "String"
     },
     "widgetInfo": {
      "defaultValue": "",
      "label": null,
      "name": "source_table_name",
      "options": {
       "autoCreated": null,
       "validationRegex": null,
       "widgetType": "text"
      },
      "widgetType": "text"
     }
    },
    "storage_account_name": {
     "currentValue": "",
     "nuid": "467b5835-06a0-4ba0-ac55-8f83eec393d8",
     "typedWidgetInfo": {
      "autoCreated": false,
      "defaultValue": "",
      "label": null,
      "name": "storage_account_name",
      "options": {
       "validationRegex": null,
       "widgetDisplayType": "Text"
      },
      "parameterDataType": "String"
     },
     "widgetInfo": {
      "defaultValue": "",
      "label": null,
      "name": "storage_account_name",
      "options": {
       "autoCreated": null,
       "validationRegex": null,
       "widgetType": "text"
      },
      "widgetType": "text"
     }
    }
   }
  },
  "language_info": {
   "name": "python"
  }
 },
 "nbformat": 4,
 "nbformat_minor": 0
}
