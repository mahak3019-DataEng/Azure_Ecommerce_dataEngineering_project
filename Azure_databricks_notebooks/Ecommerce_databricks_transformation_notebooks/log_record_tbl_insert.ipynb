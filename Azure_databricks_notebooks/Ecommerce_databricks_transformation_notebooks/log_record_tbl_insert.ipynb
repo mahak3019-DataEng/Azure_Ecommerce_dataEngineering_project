{
 "cells": [
  {
   "cell_type": "code",
   "execution_count": 0,
   "metadata": {
    "application/vnd.databricks.v1+cell": {
     "cellMetadata": {
      "byteLimit": 2048000,
      "rowLimit": 10000
     },
     "inputWidgets": {},
     "nuid": "edb89e52-ec2c-4658-9e0d-e9cb57a26b0b",
     "showTitle": false,
     "title": ""
    }
   },
   "outputs": [],
   "source": [
    "dbutils.widgets.text(\"env\",\"\")\n",
    "dbutils.widgets.text(\"pipeLineName\",\"\")\n",
    "dbutils.widgets.text(\"logMessage\",\"\")\n",
    "dbutils.widgets.text(\"status\",\"\")\n",
    "dbutils.widgets.text(\"triggerType\",\"\")\n",
    "dbutils.widgets.text(\"loadId\",\"\")\n",
    "dbutils.widgets.text(\"logTimestamp\",\"\")"
   ]
  },
  {
   "cell_type": "code",
   "execution_count": 0,
   "metadata": {
    "application/vnd.databricks.v1+cell": {
     "cellMetadata": {
      "byteLimit": 2048000,
      "rowLimit": 10000
     },
     "inputWidgets": {},
     "nuid": "28d61c3f-06d2-447f-8068-a4e0ab799e3b",
     "showTitle": false,
     "title": ""
    }
   },
   "outputs": [],
   "source": [
    "env = dbutils.widgets.get(\"env\")\n",
    "pipeLineName = dbutils.widgets.get(\"pipeLineName\")\n",
    "logMessage = dbutils.widgets.get(\"logMessage\")\n",
    "status = dbutils.widgets.get(\"status\")\n",
    "triggerType = dbutils.widgets.get(\"triggerType\")\n",
    "loadId = dbutils.widgets.get(\"loadId\")\n",
    "logTimestamp = dbutils.widgets.get(\"logTimestamp\")"
   ]
  },
  {
   "cell_type": "code",
   "execution_count": 0,
   "metadata": {
    "application/vnd.databricks.v1+cell": {
     "cellMetadata": {
      "byteLimit": 2048000,
      "rowLimit": 10000
     },
     "inputWidgets": {},
     "nuid": "142fa2be-3985-4aa1-bac0-9c802de88e4d",
     "showTitle": false,
     "title": ""
    }
   },
   "outputs": [],
   "source": [
    "status = status.replace(\"'\", \"\\\"\")"
   ]
  },
  {
   "cell_type": "code",
   "execution_count": 0,
   "metadata": {
    "application/vnd.databricks.v1+cell": {
     "cellMetadata": {},
     "inputWidgets": {},
     "nuid": "02284db8-e78d-4753-b2c6-cd7fc162c368",
     "showTitle": false,
     "title": ""
    }
   },
   "outputs": [],
   "source": [
    "# updating the pipeline run status to log table\n",
    "\n",
    "\n",
    "spark.sql(f\"\"\"\n",
    "insert into {env}_log.log_record_tbl values (\n",
    "    '{env}','{pipeLineName}','{logMessage}','{status}','{triggerType}','{loadId}',cast('{logTimestamp}' as TimeStamp))\n",
    "          \"\"\")"
   ]
  }
 ],
 "metadata": {
  "application/vnd.databricks.v1+notebook": {
   "dashboards": [],
   "environmentMetadata": {
    "base_environment": "",
    "client": "1"
   },
   "language": "python",
   "notebookMetadata": {
    "pythonIndentUnit": 4
   },
   "notebookName": "log_record_tbl_insert",
   "widgets": {
    "env": {
     "currentValue": "",
     "nuid": "132381ac-d62e-435b-ba0b-c33c38ca9e54",
     "typedWidgetInfo": {
      "autoCreated": false,
      "defaultValue": "",
      "label": null,
      "name": "env",
      "options": {
       "validationRegex": null,
       "widgetDisplayType": "Text"
      },
      "parameterDataType": "String"
     },
     "widgetInfo": {
      "defaultValue": "",
      "label": null,
      "name": "env",
      "options": {
       "autoCreated": null,
       "validationRegex": null,
       "widgetType": "text"
      },
      "widgetType": "text"
     }
    },
    "loadId": {
     "currentValue": "",
     "nuid": "3f231c92-a71e-4d84-8447-73d7f0126850",
     "typedWidgetInfo": {
      "autoCreated": false,
      "defaultValue": "",
      "label": null,
      "name": "loadId",
      "options": {
       "validationRegex": null,
       "widgetDisplayType": "Text"
      },
      "parameterDataType": "String"
     },
     "widgetInfo": {
      "defaultValue": "",
      "label": null,
      "name": "loadId",
      "options": {
       "autoCreated": null,
       "validationRegex": null,
       "widgetType": "text"
      },
      "widgetType": "text"
     }
    },
    "logMessage": {
     "currentValue": "",
     "nuid": "adcda61e-aac9-4873-9db1-6af07ab11487",
     "typedWidgetInfo": {
      "autoCreated": false,
      "defaultValue": "",
      "label": null,
      "name": "logMessage",
      "options": {
       "validationRegex": null,
       "widgetDisplayType": "Text"
      },
      "parameterDataType": "String"
     },
     "widgetInfo": {
      "defaultValue": "",
      "label": null,
      "name": "logMessage",
      "options": {
       "autoCreated": null,
       "validationRegex": null,
       "widgetType": "text"
      },
      "widgetType": "text"
     }
    },
    "logTimeStamp": {
     "currentValue": "",
     "nuid": "1355187c-3882-4d72-9647-754e5b5f180b",
     "typedWidgetInfo": {
      "autoCreated": false,
      "defaultValue": "",
      "label": null,
      "name": "logTimeStamp",
      "options": {
       "validationRegex": null,
       "widgetDisplayType": "Text"
      },
      "parameterDataType": "String"
     },
     "widgetInfo": {
      "defaultValue": "",
      "label": null,
      "name": "logTimeStamp",
      "options": {
       "autoCreated": null,
       "validationRegex": null,
       "widgetType": "text"
      },
      "widgetType": "text"
     }
    },
    "logTimestamp": {
     "currentValue": "",
     "nuid": "1ced9b7a-0d7c-473f-b8ff-d6aafd85b751",
     "typedWidgetInfo": {
      "autoCreated": false,
      "defaultValue": "",
      "label": null,
      "name": "logTimestamp",
      "options": {
       "validationRegex": null,
       "widgetDisplayType": "Text"
      },
      "parameterDataType": "String"
     },
     "widgetInfo": {
      "defaultValue": "",
      "label": null,
      "name": "logTimestamp",
      "options": {
       "autoCreated": null,
       "validationRegex": null,
       "widgetType": "text"
      },
      "widgetType": "text"
     }
    },
    "pipeLineName": {
     "currentValue": "",
     "nuid": "6e4d78b4-64e6-48e4-84bc-f3c8f313ccd9",
     "typedWidgetInfo": {
      "autoCreated": false,
      "defaultValue": "",
      "label": null,
      "name": "pipeLineName",
      "options": {
       "validationRegex": null,
       "widgetDisplayType": "Text"
      },
      "parameterDataType": "String"
     },
     "widgetInfo": {
      "defaultValue": "",
      "label": null,
      "name": "pipeLineName",
      "options": {
       "autoCreated": null,
       "validationRegex": null,
       "widgetType": "text"
      },
      "widgetType": "text"
     }
    },
    "status": {
     "currentValue": "",
     "nuid": "9734ad31-4919-4519-844b-185596d7550f",
     "typedWidgetInfo": {
      "autoCreated": false,
      "defaultValue": "",
      "label": null,
      "name": "status",
      "options": {
       "validationRegex": null,
       "widgetDisplayType": "Text"
      },
      "parameterDataType": "String"
     },
     "widgetInfo": {
      "defaultValue": "",
      "label": null,
      "name": "status",
      "options": {
       "autoCreated": null,
       "validationRegex": null,
       "widgetType": "text"
      },
      "widgetType": "text"
     }
    },
    "triggerType": {
     "currentValue": "",
     "nuid": "74cb9208-3970-4c58-a90c-b71a4f2a5949",
     "typedWidgetInfo": {
      "autoCreated": false,
      "defaultValue": "",
      "label": null,
      "name": "triggerType",
      "options": {
       "validationRegex": null,
       "widgetDisplayType": "Text"
      },
      "parameterDataType": "String"
     },
     "widgetInfo": {
      "defaultValue": "",
      "label": null,
      "name": "triggerType",
      "options": {
       "autoCreated": null,
       "validationRegex": null,
       "widgetType": "text"
      },
      "widgetType": "text"
     }
    }
   }
  },
  "language_info": {
   "name": "python"
  }
 },
 "nbformat": 4,
 "nbformat_minor": 0
}
