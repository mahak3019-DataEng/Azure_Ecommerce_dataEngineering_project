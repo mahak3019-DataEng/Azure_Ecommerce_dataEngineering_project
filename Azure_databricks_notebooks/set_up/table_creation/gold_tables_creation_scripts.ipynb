{
 "cells": [
  {
   "cell_type": "code",
   "execution_count": 0,
   "metadata": {
    "application/vnd.databricks.v1+cell": {
     "cellMetadata": {
      "byteLimit": 2048000,
      "rowLimit": 10000
     },
     "inputWidgets": {},
     "nuid": "4eb5826d-63b6-4b41-a174-7e6ca6aeb56e",
     "showTitle": false,
     "title": ""
    }
   },
   "outputs": [],
   "source": [
    "dbutils.widgets.text(\"storage_account_name\",\"\")\n",
    "storage_account_name = dbutils.widgets.get(\"storage_account_name\")\n",
    "dbutils.widgets.text(\"env\",\"\")\n",
    "env = dbutils.widgets.get(\"env\")"
   ]
  },
  {
   "cell_type": "code",
   "execution_count": 0,
   "metadata": {
    "application/vnd.databricks.v1+cell": {
     "cellMetadata": {
      "byteLimit": 2048000,
      "rowLimit": 10000
     },
     "inputWidgets": {},
     "nuid": "83546bac-62ae-4b16-9179-80e004b9f92e",
     "showTitle": false,
     "title": ""
    }
   },
   "outputs": [
    {
     "data": {
      "text/plain": [
       "DataFrame[]"
      ]
     },
     "execution_count": 8,
     "metadata": {},
     "output_type": "execute_result"
    }
   ],
   "source": [
    "spark.sql(f\"\"\"\n",
    "create database if not exists hive_metastore.{env}_gold\n",
    "          \"\"\")"
   ]
  },
  {
   "cell_type": "code",
   "execution_count": 0,
   "metadata": {
    "application/vnd.databricks.v1+cell": {
     "cellMetadata": {
      "byteLimit": 2048000,
      "rowLimit": 10000
     },
     "inputWidgets": {},
     "nuid": "caf83a40-3fdf-4084-b97f-6690a08bb311",
     "showTitle": false,
     "title": ""
    }
   },
   "outputs": [
    {
     "data": {
      "text/plain": [
       "DataFrame[]"
      ]
     },
     "execution_count": 11,
     "metadata": {},
     "output_type": "execute_result"
    }
   ],
   "source": [
    "spark.sql(f\"\"\"\n",
    "create or replace table {env}_gold.comprehensive_users (\n",
    "    Country VARCHAR(255),\n",
    "    Users_productsWished INT,\n",
    "    Users_years_since_last_login DECIMAL(10, 2),\n",
    "    Users_hasanyapp BOOLEAN,\n",
    "    Users_socialnbfollowers INT,\n",
    "    Users_user_descriptor VARCHAR(255),\n",
    "    Countries_Sellers INT,\n",
    "    Countries_TopSellers INT,\n",
    "    Countries_FemaleSellers INT,\n",
    "    Countries_MaleSellers INT,\n",
    "    Countries_TopFemaleSellers INT,\n",
    "    Countries_TopMaleSellers INT,\n",
    "    Buyers_Total INT,\n",
    "    Buyers_Top INT,\n",
    "    Buyers_Female INT,\n",
    "    Buyers_Male INT,\n",
    "    Buyers_TopFemale INT,\n",
    "    Buyers_TopMale INT,\n",
    "    Sellers_Total INT,\n",
    "    Sellers_Sex VARCHAR(10),\n",
    "    Sellers_MeanProductsSold DECIMAL(10, 2),\n",
    "    Sellers_MeanProductsListed DECIMAL(10, 2),\n",
    "    last_insert_dttm VARCHAR(255),\n",
    "    loadID VARCHAR(255)\n",
    "    )\n",
    "          \n",
    "    location 'abfss://gold@{storage_account_name}.dfs.core.windows.net/comprehensive_users'\n",
    "          \"\"\")"
   ]
  }
 ],
 "metadata": {
  "application/vnd.databricks.v1+notebook": {
   "dashboards": [],
   "environmentMetadata": null,
   "language": "python",
   "notebookMetadata": {
    "pythonIndentUnit": 4
   },
   "notebookName": "gold_tables_creation_scripts",
   "widgets": {
    "env": {
     "currentValue": "dev",
     "nuid": "47af91c5-b5ca-44d0-bf69-2878bba1e071",
     "typedWidgetInfo": {
      "autoCreated": false,
      "defaultValue": "",
      "label": null,
      "name": "env",
      "options": {
       "validationRegex": null,
       "widgetDisplayType": "Text"
      },
      "parameterDataType": "String"
     },
     "widgetInfo": {
      "defaultValue": "",
      "label": null,
      "name": "env",
      "options": {
       "autoCreated": null,
       "validationRegex": null,
       "widgetType": "text"
      },
      "widgetType": "text"
     }
    },
    "storage_account_name": {
     "currentValue": "dbadlsstorageaccdev",
     "nuid": "8b135bbd-31a6-4f8a-80a6-3ee58b992683",
     "typedWidgetInfo": {
      "autoCreated": false,
      "defaultValue": "",
      "label": null,
      "name": "storage_account_name",
      "options": {
       "validationRegex": null,
       "widgetDisplayType": "Text"
      },
      "parameterDataType": "String"
     },
     "widgetInfo": {
      "defaultValue": "",
      "label": null,
      "name": "storage_account_name",
      "options": {
       "autoCreated": null,
       "validationRegex": null,
       "widgetType": "text"
      },
      "widgetType": "text"
     }
    }
   }
  },
  "language_info": {
   "name": "python"
  }
 },
 "nbformat": 4,
 "nbformat_minor": 0
}
