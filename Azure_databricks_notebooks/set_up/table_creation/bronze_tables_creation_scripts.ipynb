{
 "cells": [
  {
   "cell_type": "code",
   "execution_count": 0,
   "metadata": {
    "application/vnd.databricks.v1+cell": {
     "cellMetadata": {
      "byteLimit": 2048000,
      "rowLimit": 10000
     },
     "inputWidgets": {},
     "nuid": "faf1db4b-6ba6-463e-834d-a4cdf8703697",
     "showTitle": false,
     "title": ""
    }
   },
   "outputs": [],
   "source": [
    "dbutils.widgets.text(\"storage_account_name\",\"\")\n",
    "storage_account_name = dbutils.widgets.get(\"storage_account_name\")\n",
    "dbutils.widgets.text(\"env\",\"\")\n",
    "env = dbutils.widgets.get(\"env\")"
   ]
  },
  {
   "cell_type": "code",
   "execution_count": 0,
   "metadata": {
    "application/vnd.databricks.v1+cell": {
     "cellMetadata": {
      "byteLimit": 2048000,
      "rowLimit": 10000
     },
     "inputWidgets": {},
     "nuid": "336dd05d-ae73-410a-bcc4-f2e844dc357b",
     "showTitle": false,
     "title": ""
    }
   },
   "outputs": [
    {
     "data": {
      "text/plain": [
       "DataFrame[]"
      ]
     },
     "execution_count": 8,
     "metadata": {},
     "output_type": "execute_result"
    }
   ],
   "source": [
    "spark.sql(f\"\"\"\n",
    "create database if not exists hive_metastore.{env}_bronze\n",
    "\"\"\")"
   ]
  },
  {
   "cell_type": "code",
   "execution_count": 0,
   "metadata": {
    "application/vnd.databricks.v1+cell": {
     "cellMetadata": {
      "byteLimit": 2048000,
      "rowLimit": 10000
     },
     "inputWidgets": {},
     "nuid": "374b6e14-f79b-4134-b4d9-7b239ab7e8b2",
     "showTitle": false,
     "title": ""
    }
   },
   "outputs": [
    {
     "data": {
      "text/plain": [
       "DataFrame[]"
      ]
     },
     "execution_count": 8,
     "metadata": {},
     "output_type": "execute_result"
    }
   ],
   "source": [
    "spark.sql(f\"\"\"\n",
    "create or replace table {env}_bronze.buyers (\n",
    "    country STRING,\n",
    "    buyers STRING,\n",
    "    topbuyers STRING,\n",
    "    topbuyerratio STRING,\n",
    "    femalebuyers STRING,\n",
    "    malebuyers STRING,\n",
    "    topfemalebuyers STRING,\n",
    "    topmalebuyers STRING,\n",
    "    femalebuyersratio STRING,\n",
    "    topfemalebuyersratio STRING,\n",
    "    boughtperwishlistratio STRING,\n",
    "    boughtperlikeratio STRING,\n",
    "    topboughtperwishlistratio STRING,\n",
    "    topboughtperlikeratio STRING,\n",
    "    totalproductsbought STRING,\n",
    "    totalproductswished STRING,\n",
    "    totalproductsliked STRING,\n",
    "    toptotalproductsbought STRING,\n",
    "    toptotalproductswished STRING,\n",
    "    toptotalproductsliked STRING,\n",
    "    meanproductsbought STRING,\n",
    "    meanproductswished STRING,\n",
    "    meanproductsliked STRING,\n",
    "    topmeanproductsbought STRING,\n",
    "    topmeanproductswished STRING,\n",
    "    topmeanproductsliked STRING,\n",
    "    meanofflinedays STRING,\n",
    "    topmeanofflinedays STRING,\n",
    "    meanfollowers STRING,\n",
    "    meanfollowing STRING,\n",
    "    topmeanfollowers STRING,\n",
    "    topmeanfollowing STRING,\n",
    "    last_insert_dttm STRING,\n",
    "    loadID String\n",
    ")\n",
    "location 'abfss://bronze@{storage_account_name}.dfs.core.windows.net/buyers'\n",
    "          \"\"\")"
   ]
  },
  {
   "cell_type": "code",
   "execution_count": 0,
   "metadata": {
    "application/vnd.databricks.v1+cell": {
     "cellMetadata": {
      "byteLimit": 2048000,
      "rowLimit": 10000
     },
     "inputWidgets": {},
     "nuid": "d9a45b19-a519-4cb3-81d2-2e99facda288",
     "showTitle": false,
     "title": ""
    }
   },
   "outputs": [
    {
     "data": {
      "text/plain": [
       "DataFrame[]"
      ]
     },
     "execution_count": 9,
     "metadata": {},
     "output_type": "execute_result"
    }
   ],
   "source": [
    "spark.sql(f\"\"\"\n",
    "create or replace table {env}_bronze.users (\n",
    "    identifierHash STRING,\n",
    "    type STRING,\n",
    "    country STRING,\n",
    "    language STRING,\n",
    "    socialNbFollowers STRING,\n",
    "    socialNbFollows STRING,\n",
    "    socialProductsLiked STRING,\n",
    "    productsListed STRING,\n",
    "    productsSold STRING,\n",
    "    productsPassRate STRING,\n",
    "    productsWished STRING,\n",
    "    productsBought STRING,\n",
    "    gender STRING,\n",
    "    civilityGenderId STRING,\n",
    "    civilityTitle STRING,\n",
    "    hasAnyApp STRING,\n",
    "    hasAndroidApp STRING,\n",
    "    hasIosApp STRING,\n",
    "    hasProfilePicture STRING,\n",
    "    daysSinceLastLogin STRING,\n",
    "    seniority STRING,\n",
    "    seniorityAsMonths STRING,\n",
    "    seniorityAsYears STRING,\n",
    "    countryCode STRING,\n",
    "    last_insert_dttm STRING,\n",
    "    loadID String\n",
    "\n",
    ")\n",
    "location 'abfss://bronze@{storage_account_name}.dfs.core.windows.net/users'\n",
    "\"\"\")"
   ]
  },
  {
   "cell_type": "code",
   "execution_count": 0,
   "metadata": {
    "application/vnd.databricks.v1+cell": {
     "cellMetadata": {
      "byteLimit": 2048000,
      "rowLimit": 10000
     },
     "inputWidgets": {},
     "nuid": "21083adb-5065-4faa-80ae-a15bfa46c132",
     "showTitle": false,
     "title": ""
    }
   },
   "outputs": [
    {
     "data": {
      "text/plain": [
       "DataFrame[]"
      ]
     },
     "execution_count": 10,
     "metadata": {},
     "output_type": "execute_result"
    }
   ],
   "source": [
    "spark.sql(f\"\"\"\n",
    "create or replace table {env}_bronze.sellers (\n",
    "    country STRING,\n",
    "    sex STRING,\n",
    "    nbsellers STRING,\n",
    "    meanproductssold STRING,\n",
    "    meanproductslisted STRING,\n",
    "    meansellerpassrate STRING,\n",
    "    totalproductssold STRING,\n",
    "    totalproductslisted STRING,\n",
    "    meanproductsbought STRING,\n",
    "    meanproductswished STRING,\n",
    "    meanproductsliked STRING,\n",
    "    totalbought STRING,\n",
    "    totalwished STRING,\n",
    "    totalproductsliked STRING,\n",
    "    meanfollowers STRING,\n",
    "    meanfollows STRING,\n",
    "    percentofappusers STRING,\n",
    "    percentofiosusers STRING,\n",
    "    meanseniority STRING,\n",
    "    last_insert_dttm STRING,\n",
    "    loadID String\n",
    "\n",
    ")\n",
    "location 'abfss://bronze@{storage_account_name}.dfs.core.windows.net/sellers'\n",
    "\"\"\")"
   ]
  },
  {
   "cell_type": "code",
   "execution_count": 0,
   "metadata": {
    "application/vnd.databricks.v1+cell": {
     "cellMetadata": {
      "byteLimit": 2048000,
      "rowLimit": 10000
     },
     "inputWidgets": {},
     "nuid": "7e02964f-9ef5-4846-815a-a603cd5a8f41",
     "showTitle": false,
     "title": ""
    }
   },
   "outputs": [
    {
     "data": {
      "text/plain": [
       "DataFrame[]"
      ]
     },
     "execution_count": 11,
     "metadata": {},
     "output_type": "execute_result"
    }
   ],
   "source": [
    "spark.sql(f\"\"\"\n",
    "create or replace table {env}_bronze.countries (\n",
    "    country STRING,\n",
    "    sellers STRING,\n",
    "    topsellers STRING,\n",
    "    topsellerratio STRING,\n",
    "    femalesellersratio STRING,\n",
    "    topfemalesellersratio STRING,\n",
    "    femalesellers STRING,\n",
    "    malesellers STRING,\n",
    "    topfemalesellers STRING,\n",
    "    topmalesellers STRING,\n",
    "    countrysoldratio STRING,\n",
    "    bestsoldratio STRING,\n",
    "    toptotalproductssold STRING,\n",
    "    totalproductssold STRING,\n",
    "    toptotalproductslisted STRING,\n",
    "    totalproductslisted STRING,\n",
    "    topmeanproductssold STRING,\n",
    "    topmeanproductslisted STRING,\n",
    "    meanproductssold STRING,\n",
    "    meanproductslisted STRING,\n",
    "    meanofflinedays STRING,\n",
    "    topmeanofflinedays STRING,\n",
    "    meanfollowers STRING,\n",
    "    meanfollowing STRING,\n",
    "    topmeanfollowers STRING,\n",
    "    topmeanfollowing STRING,\n",
    "    last_insert_dttm STRING,\n",
    "    loadID String\n",
    "\n",
    ")\n",
    "location 'abfss://bronze@{storage_account_name}.dfs.core.windows.net/countries'\n",
    "\"\"\")"
   ]
  },
  {
   "cell_type": "code",
   "execution_count": 0,
   "metadata": {
    "application/vnd.databricks.v1+cell": {
     "cellMetadata": {
      "byteLimit": 2048000,
      "rowLimit": 10000
     },
     "inputWidgets": {},
     "nuid": "30710ed0-7edf-4b5a-9b03-aa8757285254",
     "showTitle": false,
     "title": ""
    }
   },
   "outputs": [
    {
     "data": {
      "text/plain": [
       "[Row(col_name='country', data_type='string', comment=None),\n",
       " Row(col_name='sellers', data_type='string', comment=None),\n",
       " Row(col_name='topsellers', data_type='string', comment=None),\n",
       " Row(col_name='topsellerratio', data_type='string', comment=None),\n",
       " Row(col_name='femalesellersratio', data_type='string', comment=None),\n",
       " Row(col_name='topfemalesellersratio', data_type='string', comment=None),\n",
       " Row(col_name='femalesellers', data_type='string', comment=None),\n",
       " Row(col_name='malesellers', data_type='string', comment=None),\n",
       " Row(col_name='topfemalesellers', data_type='string', comment=None),\n",
       " Row(col_name='topmalesellers', data_type='string', comment=None),\n",
       " Row(col_name='countrysoldratio', data_type='string', comment=None),\n",
       " Row(col_name='bestsoldratio', data_type='string', comment=None),\n",
       " Row(col_name='toptotalproductssold', data_type='string', comment=None),\n",
       " Row(col_name='totalproductssold', data_type='string', comment=None),\n",
       " Row(col_name='toptotalproductslisted', data_type='string', comment=None),\n",
       " Row(col_name='totalproductslisted', data_type='string', comment=None),\n",
       " Row(col_name='topmeanproductssold', data_type='string', comment=None),\n",
       " Row(col_name='topmeanproductslisted', data_type='string', comment=None),\n",
       " Row(col_name='meanproductssold', data_type='string', comment=None),\n",
       " Row(col_name='meanproductslisted', data_type='string', comment=None),\n",
       " Row(col_name='meanofflinedays', data_type='string', comment=None),\n",
       " Row(col_name='topmeanofflinedays', data_type='string', comment=None),\n",
       " Row(col_name='meanfollowers', data_type='string', comment=None),\n",
       " Row(col_name='meanfollowing', data_type='string', comment=None),\n",
       " Row(col_name='topmeanfollowers', data_type='string', comment=None),\n",
       " Row(col_name='topmeanfollowing', data_type='string', comment=None),\n",
       " Row(col_name='last_insert_dttm', data_type='string', comment=None),\n",
       " Row(col_name='loadID', data_type='string', comment=None)]"
      ]
     },
     "execution_count": 6,
     "metadata": {},
     "output_type": "execute_result"
    }
   ],
   "source": [
    "df = spark.sql(\"describe table dev_bronze.countries\")\n",
    "df.collect()"
   ]
  }
 ],
 "metadata": {
  "application/vnd.databricks.v1+notebook": {
   "dashboards": [],
   "environmentMetadata": null,
   "language": "python",
   "notebookMetadata": {
    "mostRecentlyExecutedCommandWithImplicitDF": {
     "commandId": 570599540054264,
     "dataframes": [
      "_sqldf"
     ]
    },
    "pythonIndentUnit": 4
   },
   "notebookName": "bronze_tables_creation_scripts",
   "widgets": {
    "env": {
     "currentValue": "dev",
     "nuid": "7ed0f419-7cc7-427d-957f-a64bef9f982f",
     "typedWidgetInfo": {
      "autoCreated": false,
      "defaultValue": "",
      "label": null,
      "name": "env",
      "options": {
       "validationRegex": null,
       "widgetDisplayType": "Text"
      },
      "parameterDataType": "String"
     },
     "widgetInfo": {
      "defaultValue": "",
      "label": null,
      "name": "env",
      "options": {
       "autoCreated": null,
       "validationRegex": null,
       "widgetType": "text"
      },
      "widgetType": "text"
     }
    },
    "storage_account_name": {
     "currentValue": "dbadlsstorageaccdev",
     "nuid": "4060f4cc-bb46-4225-99e7-a71781d1f549",
     "typedWidgetInfo": {
      "autoCreated": false,
      "defaultValue": "",
      "label": null,
      "name": "storage_account_name",
      "options": {
       "validationRegex": null,
       "widgetDisplayType": "Text"
      },
      "parameterDataType": "String"
     },
     "widgetInfo": {
      "defaultValue": "",
      "label": null,
      "name": "storage_account_name",
      "options": {
       "autoCreated": null,
       "validationRegex": null,
       "widgetType": "text"
      },
      "widgetType": "text"
     }
    }
   }
  },
  "language_info": {
   "name": "python"
  }
 },
 "nbformat": 4,
 "nbformat_minor": 0
}
