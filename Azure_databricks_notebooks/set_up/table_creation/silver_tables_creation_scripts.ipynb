{
 "cells": [
  {
   "cell_type": "code",
   "execution_count": 0,
   "metadata": {
    "application/vnd.databricks.v1+cell": {
     "cellMetadata": {
      "byteLimit": 2048000,
      "rowLimit": 10000
     },
     "inputWidgets": {},
     "nuid": "66b4743d-fb85-4ec7-856a-24c69b612865",
     "showTitle": false,
     "title": ""
    }
   },
   "outputs": [],
   "source": [
    "dbutils.widgets.text(\"storage_account_name\",\"\")\n",
    "storage_account_name = dbutils.widgets.get(\"storage_account_name\")\n",
    "dbutils.widgets.text(\"env\",\"\")\n",
    "env = dbutils.widgets.get(\"env\")"
   ]
  },
  {
   "cell_type": "code",
   "execution_count": 0,
   "metadata": {
    "application/vnd.databricks.v1+cell": {
     "cellMetadata": {
      "byteLimit": 2048000,
      "rowLimit": 10000
     },
     "inputWidgets": {},
     "nuid": "08b24f92-9ff8-4191-9755-05458cacaff8",
     "showTitle": false,
     "title": ""
    }
   },
   "outputs": [
    {
     "data": {
      "text/plain": [
       "DataFrame[]"
      ]
     },
     "execution_count": 3,
     "metadata": {},
     "output_type": "execute_result"
    }
   ],
   "source": [
    "spark.sql(f\"\"\"\n",
    "create database if not exists hive_metastore.{env}_silver\n",
    "\"\"\")"
   ]
  },
  {
   "cell_type": "code",
   "execution_count": 0,
   "metadata": {
    "application/vnd.databricks.v1+cell": {
     "cellMetadata": {
      "byteLimit": 2048000,
      "rowLimit": 10000
     },
     "inputWidgets": {},
     "nuid": "e33336c3-57c5-487c-a3e8-e58908b8604f",
     "showTitle": false,
     "title": ""
    }
   },
   "outputs": [
    {
     "data": {
      "text/plain": [
       "DataFrame[]"
      ]
     },
     "execution_count": 4,
     "metadata": {},
     "output_type": "execute_result"
    }
   ],
   "source": [
    "spark.sql(f\"\"\"\n",
    "create or replace table {env}_silver.buyers (\n",
    "    country VARCHAR(255),\n",
    "    buyers INT,\n",
    "    topbuyers INT,\n",
    "    topbuyerratio DECIMAL(10, 2),\n",
    "    femalebuyers INT,\n",
    "    malebuyers INT,\n",
    "    topfemalebuyers INT,\n",
    "    topmalebuyers INT,\n",
    "    femalebuyersratio DECIMAL(10, 2),\n",
    "    topfemalebuyersratio DECIMAL(10, 2),\n",
    "    boughtperwishlistratio DECIMAL(10, 2),\n",
    "    boughtperlikeratio DECIMAL(10, 2),\n",
    "    topboughtperwishlistratio DECIMAL(10, 2),\n",
    "    topboughtperlikeratio DECIMAL(10, 2),\n",
    "    totalproductsbought INT,\n",
    "    totalproductswished INT,\n",
    "    totalproductsliked INT,\n",
    "    toptotalproductsbought INT,\n",
    "    toptotalproductswished INT,\n",
    "    toptotalproductsliked INT,\n",
    "    meanproductsbought DECIMAL(10, 2),\n",
    "    meanproductswished DECIMAL(10, 2),\n",
    "    meanproductsliked DECIMAL(10, 2),\n",
    "    topmeanproductsbought DECIMAL(10, 2),\n",
    "    topmeanproductswished DECIMAL(10, 2),\n",
    "    topmeanproductsliked DECIMAL(10, 2),\n",
    "    meanofflinedays DECIMAL(10, 2),\n",
    "    topmeanofflinedays DECIMAL(10, 2),\n",
    "    meanfollowers DECIMAL(10, 2),\n",
    "    meanfollowing DECIMAL(10, 2),\n",
    "    topmeanfollowers DECIMAL(10, 2),\n",
    "    topmeanfollowing DECIMAL(10, 2),\n",
    "    last_insert_dttm VARCHAR(255),\n",
    "    loadID VARCHAR(255),\n",
    "    female_to_male_ratio DECIMAL(10, 2),\n",
    "    wishlist_to_purchase_ratio DECIMAL(10, 2),\n",
    "    high_engagement BOOLEAN,\n",
    "    growing_female_market BOOLEAN\n",
    ")\n",
    "location 'abfss://silver@{storage_account_name}.dfs.core.windows.net/buyers'\n",
    "          \"\"\")"
   ]
  },
  {
   "cell_type": "code",
   "execution_count": 0,
   "metadata": {
    "application/vnd.databricks.v1+cell": {
     "cellMetadata": {
      "byteLimit": 2048000,
      "rowLimit": 10000
     },
     "inputWidgets": {},
     "nuid": "bcd408be-3704-4b9d-b5ab-5a7101c65fbe",
     "showTitle": false,
     "title": ""
    }
   },
   "outputs": [
    {
     "data": {
      "text/plain": [
       "DataFrame[]"
      ]
     },
     "execution_count": 5,
     "metadata": {},
     "output_type": "execute_result"
    }
   ],
   "source": [
    "spark.sql(f\"\"\"\n",
    "create or replace table {env}_silver.users (\n",
    "    identifierHash VARCHAR(255),\n",
    "    type VARCHAR(255),\n",
    "    country VARCHAR(255),\n",
    "    language VARCHAR(255),\n",
    "    socialnbfollowers INT,\n",
    "    socialnbfollows INT,\n",
    "    socialProductsLiked VARCHAR(255),\n",
    "    productsListed VARCHAR(255),\n",
    "    productsSold VARCHAR(255),\n",
    "    productspassrate DECIMAL(10, 2),\n",
    "    productsWished VARCHAR(255),\n",
    "    productsBought VARCHAR(255),\n",
    "    gender VARCHAR(255),\n",
    "    civilityGenderId VARCHAR(255),\n",
    "    civilityTitle VARCHAR(255),\n",
    "    hasanyapp BOOLEAN,\n",
    "    hasandroidapp BOOLEAN,\n",
    "    hasiosapp BOOLEAN,\n",
    "    hasprofilepicture BOOLEAN,\n",
    "    dayssincelastlogin INT,\n",
    "    seniority VARCHAR(255),\n",
    "    seniorityasmonths DECIMAL(10, 2),\n",
    "    seniorityasyears DECIMAL(10, 2),\n",
    "    countryCode VARCHAR(255),\n",
    "    last_insert_dttm VARCHAR(255),\n",
    "    loadID VARCHAR(255),\n",
    "    language_full VARCHAR(255),\n",
    "    civilitytitle_clean VARCHAR(255),\n",
    "    years_since_last_login DECIMAL(10, 2),\n",
    "    account_age_group VARCHAR(255),\n",
    "    current_year INT,\n",
    "    user_descriptor VARCHAR(255)\n",
    ")\n",
    "location 'abfss://silver@{storage_account_name}.dfs.core.windows.net/users'\n",
    "\"\"\")"
   ]
  },
  {
   "cell_type": "code",
   "execution_count": 0,
   "metadata": {
    "application/vnd.databricks.v1+cell": {
     "cellMetadata": {
      "byteLimit": 2048000,
      "rowLimit": 10000
     },
     "inputWidgets": {},
     "nuid": "512d77a7-968a-4081-bfdb-df02ac87afa4",
     "showTitle": false,
     "title": ""
    }
   },
   "outputs": [
    {
     "data": {
      "text/plain": [
       "DataFrame[]"
      ]
     },
     "execution_count": 6,
     "metadata": {},
     "output_type": "execute_result"
    }
   ],
   "source": [
    "spark.sql(f\"\"\"\n",
    "create or replace table {env}_silver.sellers (\n",
    "    country VARCHAR(255),\n",
    "    sex VARCHAR(255),\n",
    "    nbsellers INT,\n",
    "    meanproductssold DECIMAL(10, 2),\n",
    "    meanproductslisted DECIMAL(10, 2),\n",
    "    meansellerpassrate DECIMAL(10, 2),\n",
    "    totalproductssold INT,\n",
    "    totalproductslisted INT,\n",
    "    meanproductsbought DECIMAL(10, 2),\n",
    "    meanproductswished DECIMAL(10, 2),\n",
    "    meanproductsliked DECIMAL(10, 2),\n",
    "    totalbought INT,\n",
    "    totalwished INT,\n",
    "    totalproductsliked INT,\n",
    "    meanfollowers DECIMAL(10, 2),\n",
    "    meanfollows DECIMAL(10, 2),\n",
    "    percentofappusers DECIMAL(10, 2),\n",
    "    percentofiosusers DECIMAL(10, 2),\n",
    "    meanseniority DECIMAL(10, 2),\n",
    "    last_insert_dttm VARCHAR(255),\n",
    "    loadID VARCHAR(255),\n",
    "    seller_size_category VARCHAR(255),\n",
    "    mean_products_listed_per_seller DECIMAL(10, 2),\n",
    "    high_seller_pass_rate VARCHAR(255)\n",
    "\n",
    ")\n",
    "location 'abfss://silver@{storage_account_name}.dfs.core.windows.net/sellers'\n",
    "\"\"\")"
   ]
  },
  {
   "cell_type": "code",
   "execution_count": 0,
   "metadata": {
    "application/vnd.databricks.v1+cell": {
     "cellMetadata": {
      "byteLimit": 2048000,
      "rowLimit": 10000
     },
     "inputWidgets": {},
     "nuid": "04c59742-6c39-4998-bd3d-6bd3ae1eb08a",
     "showTitle": false,
     "title": ""
    }
   },
   "outputs": [
    {
     "data": {
      "text/plain": [
       "DataFrame[]"
      ]
     },
     "execution_count": 7,
     "metadata": {},
     "output_type": "execute_result"
    }
   ],
   "source": [
    "spark.sql(f\"\"\"\n",
    "create or replace table {env}_silver.countries (\n",
    "    country VARCHAR(255),\n",
    "    sellers INT,\n",
    "    topsellers INT,\n",
    "    topsellerratio DECIMAL(10, 2),\n",
    "    femalesellersratio DECIMAL(10, 2),\n",
    "    topfemalesellersratio DECIMAL(10, 2),\n",
    "    femalesellers INT,\n",
    "    malesellers INT,\n",
    "    topfemalesellers INT,\n",
    "    topmalesellers INT,\n",
    "    countrysoldratio DECIMAL(10, 2),\n",
    "    bestsoldratio DECIMAL(10, 2),\n",
    "    toptotalproductssold INT,\n",
    "    totalproductssold INT,\n",
    "    toptotalproductslisted INT,\n",
    "    totalproductslisted INT,\n",
    "    topmeanproductssold DECIMAL(10, 2),\n",
    "    topmeanproductslisted DECIMAL(10, 2),\n",
    "    meanproductssold DECIMAL(10, 2),\n",
    "    meanproductslisted DECIMAL(10, 2),\n",
    "    meanofflinedays DECIMAL(10, 2),\n",
    "    topmeanofflinedays DECIMAL(10, 2),\n",
    "    meanfollowers DECIMAL(10, 2),\n",
    "    meanfollowing DECIMAL(10, 2),\n",
    "    topmeanfollowers DECIMAL(10, 2),\n",
    "    topmeanfollowing DECIMAL(10, 2),\n",
    "    last_insert_dttm VARCHAR(255),\n",
    "    loadID VARCHAR(255),\n",
    "    top_seller_ratio DECIMAL(10, 2),\n",
    "    high_female_seller_ratio BOOLEAN,\n",
    "    performance_indicator DECIMAL(10, 2),\n",
    "    high_performance BOOLEAN,\n",
    "    activity_level VARCHAR(255)\n",
    "\n",
    ")\n",
    "location 'abfss://silver@{storage_account_name}.dfs.core.windows.net/countries'\n",
    "\"\"\")"
   ]
  }
 ],
 "metadata": {
  "application/vnd.databricks.v1+notebook": {
   "dashboards": [],
   "environmentMetadata": null,
   "language": "python",
   "notebookMetadata": {
    "pythonIndentUnit": 4
   },
   "notebookName": "silver_tables_creation_scripts",
   "widgets": {
    "env": {
     "currentValue": "dev",
     "nuid": "c144305e-da09-49c7-92ab-6af27aa07a69",
     "typedWidgetInfo": {
      "autoCreated": false,
      "defaultValue": "",
      "label": null,
      "name": "env",
      "options": {
       "validationRegex": null,
       "widgetDisplayType": "Text"
      },
      "parameterDataType": "String"
     },
     "widgetInfo": {
      "defaultValue": "",
      "label": null,
      "name": "env",
      "options": {
       "autoCreated": null,
       "validationRegex": null,
       "widgetType": "text"
      },
      "widgetType": "text"
     }
    },
    "storage_account_name": {
     "currentValue": "dbadlsstorageaccdev",
     "nuid": "2a4ee506-0c60-49bd-852c-9342c53c5ea4",
     "typedWidgetInfo": {
      "autoCreated": false,
      "defaultValue": "",
      "label": null,
      "name": "storage_account_name",
      "options": {
       "validationRegex": null,
       "widgetDisplayType": "Text"
      },
      "parameterDataType": "String"
     },
     "widgetInfo": {
      "defaultValue": "",
      "label": null,
      "name": "storage_account_name",
      "options": {
       "autoCreated": null,
       "validationRegex": null,
       "widgetType": "text"
      },
      "widgetType": "text"
     }
    }
   }
  },
  "language_info": {
   "name": "python"
  }
 },
 "nbformat": 4,
 "nbformat_minor": 0
}
