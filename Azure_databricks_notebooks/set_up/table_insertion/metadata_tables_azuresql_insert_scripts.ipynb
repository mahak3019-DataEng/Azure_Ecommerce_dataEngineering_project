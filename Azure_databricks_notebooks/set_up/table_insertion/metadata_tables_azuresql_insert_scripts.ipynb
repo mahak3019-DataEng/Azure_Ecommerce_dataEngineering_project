{
 "cells": [
  {
   "cell_type": "code",
   "execution_count": 0,
   "metadata": {
    "application/vnd.databricks.v1+cell": {
     "cellMetadata": {
      "byteLimit": 2048000,
      "rowLimit": 10000
     },
     "inputWidgets": {},
     "nuid": "9a15b930-f007-4af0-9a8a-a47a391e8b3a",
     "showTitle": false,
     "title": ""
    }
   },
   "outputs": [],
   "source": [
    "dbutils.widgets.text(\"env\",\"\")\n",
    "env = dbutils.widgets.get(\"env\")\n",
    "\n",
    "dbutils.widgets.text(\"logic_app_url\",\"\")\n",
    "logic_app_url = dbutils.widgets.get(\"logic_app_url\")\n",
    "\n",
    "dbutils.widgets.text(\"email_id\",\"\")\n",
    "email_id = dbutils.widgets.get(\"email_id\")\n",
    "\n",
    "dbutils.widgets.text(\"storage_account\",\"\")\n",
    "storage_account = dbutils.widgets.get(\"storage_account\")\n",
    "\n",
    "dbutils.widgets.text(\"adls_url\",\"\")\n",
    "adls_url = dbutils.widgets.get(\"adls_url\")"
   ]
  },
  {
   "cell_type": "code",
   "execution_count": 0,
   "metadata": {
    "application/vnd.databricks.v1+cell": {
     "cellMetadata": {
      "byteLimit": 2048000,
      "implicitDf": true,
      "rowLimit": 10000
     },
     "inputWidgets": {},
     "nuid": "5c5731d2-449e-402d-9dc1-9ab85b34c482",
     "showTitle": false,
     "title": ""
    }
   },
   "outputs": [
    {
     "data": {
      "text/html": [
       "<style scoped>\n",
       "  .table-result-container {\n",
       "    max-height: 300px;\n",
       "    overflow: auto;\n",
       "  }\n",
       "  table, th, td {\n",
       "    border: 1px solid black;\n",
       "    border-collapse: collapse;\n",
       "  }\n",
       "  th, td {\n",
       "    padding: 5px;\n",
       "  }\n",
       "  th {\n",
       "    text-align: left;\n",
       "  }\n",
       "</style><div class='table-result-container'><table class='table-result'><thead style='background-color: white'><tr></tr></thead><tbody></tbody></table></div>"
      ]
     },
     "metadata": {
      "application/vnd.databricks.v1+output": {
       "addedWidgets": {},
       "aggData": [],
       "aggError": "",
       "aggOverflow": false,
       "aggSchema": [],
       "aggSeriesLimitReached": false,
       "aggType": "",
       "arguments": {},
       "columnCustomDisplayInfos": {},
       "data": [],
       "datasetInfos": [],
       "dbfsResultPath": null,
       "isJsonSchema": true,
       "metadata": {
        "dataframeName": null
       },
       "overflow": false,
       "plotOptions": {
        "customPlotOptions": {},
        "displayType": "table",
        "pivotAggregation": null,
        "pivotColumns": null,
        "xColumns": null,
        "yColumns": null
       },
       "removedWidgets": [],
       "schema": [],
       "type": "table"
      }
     },
     "output_type": "display_data"
    }
   ],
   "source": [
    "%sql\n",
    "use hive_metastore.metadata_schema"
   ]
  },
  {
   "cell_type": "code",
   "execution_count": 0,
   "metadata": {
    "application/vnd.databricks.v1+cell": {
     "cellMetadata": {
      "byteLimit": 2048000,
      "rowLimit": 10000
     },
     "inputWidgets": {},
     "nuid": "c1169be4-f204-4165-9526-227fe104bab0",
     "showTitle": false,
     "title": ""
    }
   },
   "outputs": [
    {
     "data": {
      "text/plain": [
       "DataFrame[num_affected_rows: bigint, num_inserted_rows: bigint]"
      ]
     },
     "execution_count": 6,
     "metadata": {},
     "output_type": "execute_result"
    }
   ],
   "source": [
    "# tbl_source\n",
    "\n",
    "spark.sql(f\"\"\"\n",
    "insert into metadata_schema.tbl_source_control values ( 'azure_sql',102,'db-sqldatabase-dev','mahak3019','Krishnaarjun@30','{storage_account}','{adls_url}', 'landing','{logic_app_url}','{email_id}'\n",
    ")\n",
    "\"\"\")"
   ]
  },
  {
   "cell_type": "code",
   "execution_count": 0,
   "metadata": {
    "application/vnd.databricks.v1+cell": {
     "cellMetadata": {
      "byteLimit": 2048000,
      "rowLimit": 10000
     },
     "inputWidgets": {},
     "nuid": "917ef1fc-8b7d-4324-996a-8fc5d8843c71",
     "showTitle": false,
     "title": ""
    }
   },
   "outputs": [
    {
     "name": "stdout",
     "output_type": "stream",
     "text": [
      "+---------------+---------+-------+\n",
      "|       col_name|data_type|comment|\n",
      "+---------------+---------+-------+\n",
      "|  source_ref_id|   string|   NULL|\n",
      "|         job_id|      int|   NULL|\n",
      "|  database_name|   string|   NULL|\n",
      "|      user_name|   string|   NULL|\n",
      "|    secret_name|   string|   NULL|\n",
      "|storage_account|   string|   NULL|\n",
      "|       adls_url|   string|   NULL|\n",
      "| container_name|   string|   NULL|\n",
      "|  logic_app_url|   string|   NULL|\n",
      "|       email_id|   string|   NULL|\n",
      "+---------------+---------+-------+\n",
      "\n"
     ]
    }
   ],
   "source": [
    "spark.sql(\"DESCRIBE tbl_source_control\").show()"
   ]
  },
  {
   "cell_type": "code",
   "execution_count": 0,
   "metadata": {
    "application/vnd.databricks.v1+cell": {
     "cellMetadata": {
      "byteLimit": 2048000,
      "implicitDf": true,
      "rowLimit": 10000
     },
     "inputWidgets": {},
     "nuid": "39a02b7c-4beb-456e-aba7-908d064e2797",
     "showTitle": false,
     "title": ""
    }
   },
   "outputs": [
    {
     "data": {
      "text/html": [
       "<style scoped>\n",
       "  .table-result-container {\n",
       "    max-height: 300px;\n",
       "    overflow: auto;\n",
       "  }\n",
       "  table, th, td {\n",
       "    border: 1px solid black;\n",
       "    border-collapse: collapse;\n",
       "  }\n",
       "  th, td {\n",
       "    padding: 5px;\n",
       "  }\n",
       "  th {\n",
       "    text-align: left;\n",
       "  }\n",
       "</style><div class='table-result-container'><table class='table-result'><thead style='background-color: white'><tr></tr></thead><tbody></tbody></table></div>"
      ]
     },
     "metadata": {
      "application/vnd.databricks.v1+output": {
       "addedWidgets": {},
       "aggData": [],
       "aggError": "",
       "aggOverflow": false,
       "aggSchema": [],
       "aggSeriesLimitReached": false,
       "aggType": "",
       "arguments": {},
       "columnCustomDisplayInfos": {},
       "data": [],
       "datasetInfos": [],
       "dbfsResultPath": null,
       "isJsonSchema": true,
       "metadata": {
        "dataframeName": null
       },
       "overflow": false,
       "plotOptions": {
        "customPlotOptions": {},
        "displayType": "table",
        "pivotAggregation": null,
        "pivotColumns": null,
        "xColumns": null,
        "yColumns": null
       },
       "removedWidgets": [],
       "schema": [],
       "type": "table"
      }
     },
     "output_type": "display_data"
    }
   ],
   "source": [
    "%sql\n",
    "truncate table metadata_schema.tbl_source_control;"
   ]
  },
  {
   "cell_type": "code",
   "execution_count": 0,
   "metadata": {
    "application/vnd.databricks.v1+cell": {
     "cellMetadata": {
      "byteLimit": 2048000,
      "implicitDf": true,
      "rowLimit": 10000
     },
     "inputWidgets": {},
     "nuid": "659a5319-fb32-4c52-9384-e14d3506ac9f",
     "showTitle": false,
     "title": ""
    }
   },
   "outputs": [
    {
     "data": {
      "text/html": [
       "<style scoped>\n",
       "  .table-result-container {\n",
       "    max-height: 300px;\n",
       "    overflow: auto;\n",
       "  }\n",
       "  table, th, td {\n",
       "    border: 1px solid black;\n",
       "    border-collapse: collapse;\n",
       "  }\n",
       "  th, td {\n",
       "    padding: 5px;\n",
       "  }\n",
       "  th {\n",
       "    text-align: left;\n",
       "  }\n",
       "</style><div class='table-result-container'><table class='table-result'><thead style='background-color: white'><tr><th>source_ref_id</th><th>job_id</th><th>database_name</th><th>user_name</th><th>secret_name</th><th>storage_account</th><th>adls_url</th><th>container_name</th><th>logic_app_url</th><th>email_id</th></tr></thead><tbody><tr><td>azure_sql</td><td>102</td><td>db-sqldatabase-dev</td><td>mahak3019</td><td>Krishnaarjun@30</td><td>dbadlsstorageaccdev </td><td>https://dbadlsstorageaccdev.dfs.core.windows.net/</td><td>landing</td><td>https://prod-12.centralindia.logic.azure.com:443/workflows/819992eb3fdd4535adb84b9f2333ed38/triggers/When_a_HTTP_request_is_received/paths/invoke?api-version=2016-10-01&sp=%2Ftriggers%2FWhen_a_HTTP_request_is_received%2Frun&sv=1.0&sig=KpR_SAUM92nzXv32g6aWBE8nSBWYI3BCUWZj45bKGDk</td><td>mahakajju30@gmail.com</td></tr></tbody></table></div>"
      ]
     },
     "metadata": {
      "application/vnd.databricks.v1+output": {
       "addedWidgets": {},
       "aggData": [],
       "aggError": "",
       "aggOverflow": false,
       "aggSchema": [],
       "aggSeriesLimitReached": false,
       "aggType": "",
       "arguments": {},
       "columnCustomDisplayInfos": {},
       "data": [
        [
         "azure_sql",
         102,
         "db-sqldatabase-dev",
         "mahak3019",
         "Krishnaarjun@30",
         "dbadlsstorageaccdev ",
         "https://dbadlsstorageaccdev.dfs.core.windows.net/",
         "landing",
         "https://prod-12.centralindia.logic.azure.com:443/workflows/819992eb3fdd4535adb84b9f2333ed38/triggers/When_a_HTTP_request_is_received/paths/invoke?api-version=2016-10-01&sp=%2Ftriggers%2FWhen_a_HTTP_request_is_received%2Frun&sv=1.0&sig=KpR_SAUM92nzXv32g6aWBE8nSBWYI3BCUWZj45bKGDk",
         "mahakajju30@gmail.com"
        ]
       ],
       "datasetInfos": [],
       "dbfsResultPath": null,
       "isJsonSchema": true,
       "metadata": {
        "createTempViewForImplicitDf": true,
        "dataframeName": "_sqldf",
        "executionCount": 7
       },
       "overflow": false,
       "plotOptions": {
        "customPlotOptions": {},
        "displayType": "table",
        "pivotAggregation": null,
        "pivotColumns": null,
        "xColumns": null,
        "yColumns": null
       },
       "removedWidgets": [],
       "schema": [
        {
         "metadata": "{}",
         "name": "source_ref_id",
         "type": "\"string\""
        },
        {
         "metadata": "{}",
         "name": "job_id",
         "type": "\"integer\""
        },
        {
         "metadata": "{}",
         "name": "database_name",
         "type": "\"string\""
        },
        {
         "metadata": "{}",
         "name": "user_name",
         "type": "\"string\""
        },
        {
         "metadata": "{}",
         "name": "secret_name",
         "type": "\"string\""
        },
        {
         "metadata": "{}",
         "name": "storage_account",
         "type": "\"string\""
        },
        {
         "metadata": "{}",
         "name": "adls_url",
         "type": "\"string\""
        },
        {
         "metadata": "{}",
         "name": "container_name",
         "type": "\"string\""
        },
        {
         "metadata": "{}",
         "name": "logic_app_url",
         "type": "\"string\""
        },
        {
         "metadata": "{}",
         "name": "email_id",
         "type": "\"string\""
        }
       ],
       "type": "table"
      }
     },
     "output_type": "display_data"
    }
   ],
   "source": [
    "%sql\n",
    "select * from metadata_schema.tbl_source_control;"
   ]
  },
  {
   "cell_type": "code",
   "execution_count": 0,
   "metadata": {
    "application/vnd.databricks.v1+cell": {
     "cellMetadata": {
      "byteLimit": 2048000,
      "rowLimit": 10000
     },
     "inputWidgets": {},
     "nuid": "f093410d-d2bd-44da-87e1-1094fe350cd1",
     "showTitle": false,
     "title": ""
    }
   },
   "outputs": [
    {
     "data": {
      "text/plain": [
       "DataFrame[num_affected_rows: bigint, num_inserted_rows: bigint]"
      ]
     },
     "execution_count": 43,
     "metadata": {},
     "output_type": "execute_result"
    }
   ],
   "source": [
    "# tbl_parameters\n",
    "\n",
    "spark.sql(f\"\"\"\n",
    "insert into metadata_schema.tbl_parameters values \n",
    "( 102, 'Ecommerce.buyers', 'target_azuresql_files', '{env}_bronze', 'Ecommerce.buyers', '{env}_silver', 'Ecommerce.buyers', '{env}_gold', 'Ecommerce.buyers'),\n",
    "( 102, 'Ecommerce.countries', 'target_azuresql_files', '{env}_bronze', 'Ecommerce.countries', '{env}_silver', 'Ecommerce.countries', '{env}_gold', 'Ecommerce.countries'),\n",
    "( 102, 'Ecommerce.sellers', 'target_azuresql_files', '{env}_bronze', 'Ecommerce.sellers', '{env}_silver', 'Ecommerce.sellers', '{env}_gold', 'Ecommerce.sellers'),\n",
    "( 102, 'Ecommerce.users', 'target_azuresql_files', '{env}_bronze', 'Ecommerce.users', '{env}_silver', 'Ecommerce.users', '{env}_gold', 'Ecommerce.users')\n",
    "\"\"\")"
   ]
  },
  {
   "cell_type": "code",
   "execution_count": 0,
   "metadata": {
    "application/vnd.databricks.v1+cell": {
     "cellMetadata": {
      "byteLimit": 2048000,
      "implicitDf": true,
      "rowLimit": 10000
     },
     "inputWidgets": {},
     "nuid": "21efe471-b1aa-4c50-b569-40685ced3ff3",
     "showTitle": false,
     "title": ""
    }
   },
   "outputs": [
    {
     "data": {
      "text/html": [
       "<style scoped>\n",
       "  .table-result-container {\n",
       "    max-height: 300px;\n",
       "    overflow: auto;\n",
       "  }\n",
       "  table, th, td {\n",
       "    border: 1px solid black;\n",
       "    border-collapse: collapse;\n",
       "  }\n",
       "  th, td {\n",
       "    padding: 5px;\n",
       "  }\n",
       "  th {\n",
       "    text-align: left;\n",
       "  }\n",
       "</style><div class='table-result-container'><table class='table-result'><thead style='background-color: white'><tr><th>job_id</th><th>table_name</th><th>adls_file_path</th><th>bronze_schema</th><th>bronze_tbl</th><th>silver_schema</th><th>silver_tbl</th><th>gold_schema</th><th>gold_tbl</th></tr></thead><tbody><tr><td>102</td><td>Ecommerce.buyers</td><td>target_azuresql_files</td><td>dev_bronze</td><td>Ecommerce.buyers</td><td>dev_silver</td><td>Ecommerce.buyers</td><td>dev_gold</td><td>Ecommerce.buyers</td></tr><tr><td>102</td><td>Ecommerce.countries</td><td>target_azuresql_files</td><td>dev_bronze</td><td>Ecommerce.countries</td><td>dev_silver</td><td>Ecommerce.countries</td><td>dev_gold</td><td>Ecommerce.countries</td></tr><tr><td>102</td><td>Ecommerce.sellers</td><td>target_azuresql_files</td><td>dev_bronze</td><td>Ecommerce.sellers</td><td>dev_silver</td><td>Ecommerce.sellers</td><td>dev_gold</td><td>Ecommerce.sellers</td></tr><tr><td>102</td><td>Ecommerce.users</td><td>target_azuresql_files</td><td>dev_bronze</td><td>Ecommerce.users</td><td>dev_silver</td><td>Ecommerce.users</td><td>dev_gold</td><td>Ecommerce.users</td></tr></tbody></table></div>"
      ]
     },
     "metadata": {
      "application/vnd.databricks.v1+output": {
       "addedWidgets": {},
       "aggData": [],
       "aggError": "",
       "aggOverflow": false,
       "aggSchema": [],
       "aggSeriesLimitReached": false,
       "aggType": "",
       "arguments": {},
       "columnCustomDisplayInfos": {},
       "data": [
        [
         102,
         "Ecommerce.buyers",
         "target_azuresql_files",
         "dev_bronze",
         "Ecommerce.buyers",
         "dev_silver",
         "Ecommerce.buyers",
         "dev_gold",
         "Ecommerce.buyers"
        ],
        [
         102,
         "Ecommerce.countries",
         "target_azuresql_files",
         "dev_bronze",
         "Ecommerce.countries",
         "dev_silver",
         "Ecommerce.countries",
         "dev_gold",
         "Ecommerce.countries"
        ],
        [
         102,
         "Ecommerce.sellers",
         "target_azuresql_files",
         "dev_bronze",
         "Ecommerce.sellers",
         "dev_silver",
         "Ecommerce.sellers",
         "dev_gold",
         "Ecommerce.sellers"
        ],
        [
         102,
         "Ecommerce.users",
         "target_azuresql_files",
         "dev_bronze",
         "Ecommerce.users",
         "dev_silver",
         "Ecommerce.users",
         "dev_gold",
         "Ecommerce.users"
        ]
       ],
       "datasetInfos": [],
       "dbfsResultPath": null,
       "isJsonSchema": true,
       "metadata": {
        "createTempViewForImplicitDf": true,
        "dataframeName": "_sqldf",
        "executionCount": 44
       },
       "overflow": false,
       "plotOptions": {
        "customPlotOptions": {},
        "displayType": "table",
        "pivotAggregation": null,
        "pivotColumns": null,
        "xColumns": null,
        "yColumns": null
       },
       "removedWidgets": [],
       "schema": [
        {
         "metadata": "{}",
         "name": "job_id",
         "type": "\"integer\""
        },
        {
         "metadata": "{}",
         "name": "table_name",
         "type": "\"string\""
        },
        {
         "metadata": "{}",
         "name": "adls_file_path",
         "type": "\"string\""
        },
        {
         "metadata": "{}",
         "name": "bronze_schema",
         "type": "\"string\""
        },
        {
         "metadata": "{}",
         "name": "bronze_tbl",
         "type": "\"string\""
        },
        {
         "metadata": "{}",
         "name": "silver_schema",
         "type": "\"string\""
        },
        {
         "metadata": "{}",
         "name": "silver_tbl",
         "type": "\"string\""
        },
        {
         "metadata": "{}",
         "name": "gold_schema",
         "type": "\"string\""
        },
        {
         "metadata": "{}",
         "name": "gold_tbl",
         "type": "\"string\""
        }
       ],
       "type": "table"
      }
     },
     "output_type": "display_data"
    }
   ],
   "source": [
    "%sql\n",
    "select * from tbl_parameters;"
   ]
  }
 ],
 "metadata": {
  "application/vnd.databricks.v1+notebook": {
   "dashboards": [],
   "environmentMetadata": {
    "base_environment": "",
    "client": "1"
   },
   "language": "python",
   "notebookMetadata": {
    "mostRecentlyExecutedCommandWithImplicitDF": {
     "commandId": 1047506213960763,
     "dataframes": [
      "_sqldf"
     ]
    },
    "pythonIndentUnit": 4
   },
   "notebookName": "metadata_tables_azuresql_insert_scripts",
   "widgets": {
    "adls_url": {
     "currentValue": "https://dbadlsstor",
     "nuid": "0a42c911-c122-495f-a0dc-4de5c7b5915a",
     "typedWidgetInfo": {
      "autoCreated": false,
      "defaultValue": "",
      "label": null,
      "name": "adls_url",
      "options": {
       "validationRegex": null,
       "widgetDisplayType": "Text"
      },
      "parameterDataType": "String"
     },
     "widgetInfo": {
      "defaultValue": "",
      "label": null,
      "name": "adls_url",
      "options": {
       "autoCreated": null,
       "validationRegex": null,
       "widgetType": "text"
      },
      "widgetType": "text"
     }
    },
    "email_id": {
     "currentValue": "mahakajju30@gmail.com",
     "nuid": "4ac71d30-f465-4f4c-b805-c915df550434",
     "typedWidgetInfo": {
      "autoCreated": false,
      "defaultValue": "",
      "label": null,
      "name": "email_id",
      "options": {
       "validationRegex": null,
       "widgetDisplayType": "Text"
      },
      "parameterDataType": "String"
     },
     "widgetInfo": {
      "defaultValue": "",
      "label": null,
      "name": "email_id",
      "options": {
       "autoCreated": null,
       "validationRegex": null,
       "widgetType": "text"
      },
      "widgetType": "text"
     }
    },
    "env": {
     "currentValue": "dev",
     "nuid": "f7109be3-5206-4fdb-8d3c-a64ad5eeb076",
     "typedWidgetInfo": {
      "autoCreated": false,
      "defaultValue": "",
      "label": null,
      "name": "env",
      "options": {
       "validationRegex": null,
       "widgetDisplayType": "Text"
      },
      "parameterDataType": "String"
     },
     "widgetInfo": {
      "defaultValue": "",
      "label": null,
      "name": "env",
      "options": {
       "autoCreated": null,
       "validationRegex": null,
       "widgetType": "text"
      },
      "widgetType": "text"
     }
    },
    "logic_app_url": {
     "currentValue": "https://prod-12.centralindia.logic.azure.com:443/workflows/819992eb3fdd4535adb84b9f2333ed38/triggers/When_a_HTTP_request_is_received/paths/invoke?api-version=2016-10-01&sp=%2Ftriggers%2FWhen_a_HTTP_request_is_received%2Frun&sv=1.0&sig=KpR_SAUM92nzXv32g6aWBE8nSBWYI3BCUWZj45bKGDk",
     "nuid": "756e9385-8498-4e6a-9899-75a8488d1e96",
     "typedWidgetInfo": {
      "autoCreated": false,
      "defaultValue": "",
      "label": null,
      "name": "logic_app_url",
      "options": {
       "validationRegex": null,
       "widgetDisplayType": "Text"
      },
      "parameterDataType": "String"
     },
     "widgetInfo": {
      "defaultValue": "",
      "label": null,
      "name": "logic_app_url",
      "options": {
       "autoCreated": null,
       "validationRegex": null,
       "widgetType": "text"
      },
      "widgetType": "text"
     }
    },
    "storage_account": {
     "currentValue": "dbadlsstorageaccdev ",
     "nuid": "0a8ace07-d3f5-49fe-aade-1c4df9bc6bb6",
     "typedWidgetInfo": {
      "autoCreated": false,
      "defaultValue": "",
      "label": null,
      "name": "storage_account",
      "options": {
       "validationRegex": null,
       "widgetDisplayType": "Text"
      },
      "parameterDataType": "String"
     },
     "widgetInfo": {
      "defaultValue": "",
      "label": null,
      "name": "storage_account",
      "options": {
       "autoCreated": null,
       "validationRegex": null,
       "widgetType": "text"
      },
      "widgetType": "text"
     }
    }
   }
  },
  "language_info": {
   "name": "python"
  }
 },
 "nbformat": 4,
 "nbformat_minor": 0
}
